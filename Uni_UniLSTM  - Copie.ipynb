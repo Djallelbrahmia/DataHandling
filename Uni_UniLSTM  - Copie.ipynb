{
 "cells": [
  {
   "cell_type": "code",
   "execution_count": 1,
   "id": "5cc481ed",
   "metadata": {},
   "outputs": [],
   "source": [
    "import numpy as np\n",
    "import pandas as pd\n",
    "import matplotlib.pyplot as plt\n",
    "import numpy as np\n",
    "import tensorflow as tf\n",
    "import keras\n",
    "from keras.models import Sequential\n",
    "from keras.layers import Dense, Dropout, Flatten, Conv2D, MaxPooling2D, LSTM,Conv3D"
   ]
  },
  {
   "cell_type": "code",
   "execution_count": 2,
   "id": "9d298b88",
   "metadata": {},
   "outputs": [],
   "source": [
    "def data_handler(name):\n",
    "    dataframe =pd.read_csv(name)\n",
    "    dataframe['datetime'] = dataframe['year'].map(str) + '-' + dataframe['month'].map(str) + '-' + dataframe['day'].map(str)\n",
    "    dataframe['datetime'] = pd.to_datetime(dataframe['datetime'])\n",
    "    dataframe['datetime'] = dataframe['datetime'] + dataframe['hour'].apply(lambda x: np.timedelta64(x, 'h'))\n",
    "    dataframe.set_index('datetime',inplace=True)\n",
    "    dataframe.pop('TEMP')\n",
    "    dataframe.pop('PRES')\n",
    "    dataframe.pop('DEWP')\n",
    "    dataframe.pop('RAIN')\n",
    "    dataframe.pop('WSPM')\n",
    "    dataframe.pop('No')\n",
    "    dataframe.pop('year')\n",
    "    dataframe.pop('month')\n",
    "    dataframe.pop('day')\n",
    "    dataframe.pop('wd')\n",
    "    dataframe.pop('O3')\n",
    "    dataframe.pop('hour')\n",
    "\n",
    "\n",
    "\n",
    "    dataframe.pop('station')\n",
    "    dataframe=dataframe.interpolate(methode='time')\n",
    "   \n",
    "    dataframe=dataframe.resample('D').mean()\n",
    "\n",
    "    df = np.asarray(dataframe)\n",
    "    return dataframe\n"
   ]
  },
  {
   "cell_type": "code",
   "execution_count": 3,
   "id": "24463e01",
   "metadata": {},
   "outputs": [],
   "source": [
    "X1=data_handler(\"PRSA_Data_Aotizhongxin_20130301-20170228.csv\")"
   ]
  },
  {
   "cell_type": "code",
   "execution_count": null,
   "id": "19448e1c",
   "metadata": {},
   "outputs": [],
   "source": []
  },
  {
   "cell_type": "code",
   "execution_count": 4,
   "id": "1ca61c99",
   "metadata": {},
   "outputs": [],
   "source": [
    "Channels1=X1.diff()\n",
    "Channels1=Channels1.dropna()\n",
    "Channels2=X1.diff(365)\n",
    "Channels1=Channels1[364:]\n",
    "Channels2=Channels2.dropna()"
   ]
  },
  {
   "cell_type": "code",
   "execution_count": 5,
   "id": "82915177",
   "metadata": {},
   "outputs": [],
   "source": [
    "from sklearn.preprocessing import MinMaxScaler\n",
    "\n",
    "scaler = MinMaxScaler()\n",
    "scaler.fit(X1)\n",
    "ch1 = scaler.transform(Channels1)\n"
   ]
  },
  {
   "cell_type": "code",
   "execution_count": 6,
   "id": "2507280e",
   "metadata": {},
   "outputs": [],
   "source": [
    "\n",
    "ch3 = scaler.transform(Channels2)"
   ]
  },
  {
   "cell_type": "code",
   "execution_count": 7,
   "id": "2088b664",
   "metadata": {},
   "outputs": [],
   "source": [
    "\n",
    "ch2 = scaler.transform(X1[365:])"
   ]
  },
  {
   "cell_type": "code",
   "execution_count": 8,
   "id": "1be59a15",
   "metadata": {},
   "outputs": [],
   "source": [
    "def to_supervised(data,dropNa = True,lag=12):\n",
    "    df = pd.DataFrame(data)\n",
    "    column = []\n",
    "    column.append(df)\n",
    "    for i in range(1,13):\n",
    "        column.append(df.shift(-i))\n",
    "    df = pd.concat(column,axis=1)\n",
    "    df.dropna(inplace = True)\n",
    "    features = 5\n",
    "    df = df.values\n",
    "    supervised_data = df[:,:5*12]\n",
    "\n",
    "    return supervised_data"
   ]
  },
  {
   "cell_type": "code",
   "execution_count": 9,
   "id": "707e614e",
   "metadata": {},
   "outputs": [],
   "source": [
    "timeSteps = 12\n",
    "supervised1 = to_supervised(pd.DataFrame(ch1),timeSteps)\n"
   ]
  },
  {
   "cell_type": "code",
   "execution_count": 10,
   "id": "4bda1930",
   "metadata": {},
   "outputs": [
    {
     "name": "stdout",
     "output_type": "stream",
     "text": [
      "(900, 60) (172, 60)\n"
     ]
    }
   ],
   "source": [
    "# spiltting the data\n",
    "# training on only first year data\n",
    "features = 5\n",
    "train_hours = 900\n",
    "X = supervised1[:,:(features*timeSteps)]\n",
    "\n",
    "x_train1 = X[:train_hours,:]\n",
    "x_test1 = X[train_hours:len(X)-timeSteps,:]\n",
    "\n",
    "print (x_train1.shape,x_test1.shape)"
   ]
  },
  {
   "cell_type": "code",
   "execution_count": 11,
   "id": "9cdfe1fe",
   "metadata": {},
   "outputs": [],
   "source": [
    "supervised2 = to_supervised(pd.DataFrame(ch2),timeSteps)"
   ]
  },
  {
   "cell_type": "code",
   "execution_count": 12,
   "id": "f0976245",
   "metadata": {},
   "outputs": [
    {
     "name": "stdout",
     "output_type": "stream",
     "text": [
      "(900, 60) (172, 60)\n"
     ]
    }
   ],
   "source": [
    "# spiltting the data\n",
    "# training on only first year data\n",
    "features = 5\n",
    "train_hours = 900\n",
    "X = supervised2[:,:(features*timeSteps)]\n",
    "\n",
    "x_train2 = X[:train_hours,:]\n",
    "x_test2 = X[train_hours:len(X)-timeSteps,:]\n",
    "\n",
    "print (x_train2.shape,x_test2.shape)"
   ]
  },
  {
   "cell_type": "code",
   "execution_count": 13,
   "id": "aa23da83",
   "metadata": {},
   "outputs": [
    {
     "name": "stdout",
     "output_type": "stream",
     "text": [
      "(1084, 60)\n",
      "(900, 60) (172, 60)\n"
     ]
    }
   ],
   "source": [
    "supervised3 = to_supervised(pd.DataFrame(ch3),timeSteps)\n",
    "features = 5\n",
    "train_hours = 900\n",
    "X = supervised3[:,:(features*timeSteps)]\n",
    "print(X.shape)\n",
    "x_train3 = X[:train_hours,:]\n",
    "x_test3 = X[train_hours:len(X)-timeSteps,:]\n",
    "\n",
    "print (x_train3.shape,x_test3.shape)"
   ]
  },
  {
   "cell_type": "code",
   "execution_count": 14,
   "id": "681baddc",
   "metadata": {},
   "outputs": [],
   "source": [
    "X_train1 = x_train1.reshape(x_train1.shape[0], timeSteps, features)\n",
    "X_test1 = x_test1.reshape(x_test1.shape[0], timeSteps, features)"
   ]
  },
  {
   "cell_type": "code",
   "execution_count": 15,
   "id": "057a90d5",
   "metadata": {},
   "outputs": [],
   "source": [
    "X_train2 = x_train2.reshape(x_train2.shape[0], timeSteps, features)\n",
    "X_test2 = x_test2.reshape(x_test2.shape[0], timeSteps, features)"
   ]
  },
  {
   "cell_type": "code",
   "execution_count": 16,
   "id": "35fa4076",
   "metadata": {},
   "outputs": [],
   "source": [
    "X_train3 = x_train3.reshape(x_train3.shape[0], timeSteps, features)\n",
    "X_test3 = x_test3.reshape(x_test3.shape[0], timeSteps, features)"
   ]
  },
  {
   "cell_type": "code",
   "execution_count": 17,
   "id": "09daf4bc",
   "metadata": {},
   "outputs": [],
   "source": [
    "import tensorflow as tf"
   ]
  },
  {
   "cell_type": "code",
   "execution_count": 18,
   "id": "2898b139",
   "metadata": {},
   "outputs": [],
   "source": [
    "train_data=tf.convert_to_tensor((X_train1,X_train2,X_train3))"
   ]
  },
  {
   "cell_type": "code",
   "execution_count": 19,
   "id": "90294727",
   "metadata": {},
   "outputs": [],
   "source": [
    "test_data=tf.convert_to_tensor((X_test1,X_test2,X_test3))"
   ]
  },
  {
   "cell_type": "code",
   "execution_count": 20,
   "id": "a1ecb53a",
   "metadata": {},
   "outputs": [],
   "source": [
    "y = X1[377:]\n",
    "y=scaler.transform(y)"
   ]
  },
  {
   "cell_type": "code",
   "execution_count": 21,
   "id": "ee4f5aa7",
   "metadata": {},
   "outputs": [],
   "source": [
    "y=y[:,0]"
   ]
  },
  {
   "cell_type": "code",
   "execution_count": 22,
   "id": "38a99d8f",
   "metadata": {},
   "outputs": [],
   "source": [
    "y_train = y[:train_hours]\n",
    "y_test = y[train_hours:len(y)-timeSteps]"
   ]
  },
  {
   "cell_type": "code",
   "execution_count": 23,
   "id": "82f5d324",
   "metadata": {},
   "outputs": [],
   "source": [
    "train_data=tf.transpose(train_data,[1,2,3,0])\n",
    "test_data=tf.transpose(test_data,[1,2,3,0])"
   ]
  },
  {
   "cell_type": "code",
   "execution_count": 24,
   "id": "fdbe5c6e",
   "metadata": {},
   "outputs": [],
   "source": [
    "train_data=train_data[:,:,0,:]\n",
    "test_data=test_data[:,:,0,:]"
   ]
  },
  {
   "cell_type": "code",
   "execution_count": 25,
   "id": "352e2b47",
   "metadata": {},
   "outputs": [
    {
     "data": {
      "text/plain": [
       "TensorShape([900, 12, 3])"
      ]
     },
     "execution_count": 25,
     "metadata": {},
     "output_type": "execute_result"
    }
   ],
   "source": [
    "train_data.shape"
   ]
  },
  {
   "cell_type": "code",
   "execution_count": 26,
   "id": "c1a3cd62",
   "metadata": {},
   "outputs": [],
   "source": [
    "import keras\n",
    "from keras.models import Sequential\n",
    "from keras.layers import Dense, Dropout, Flatten, Conv2D, MaxPooling1D, LSTM,Conv3D,Conv1D,TimeDistributed"
   ]
  },
  {
   "cell_type": "code",
   "execution_count": 27,
   "id": "1ab3f972",
   "metadata": {},
   "outputs": [],
   "source": [
    "first_channel = tf.keras.Input(shape=(12,3))\n",
    "\n",
    "\n",
    "\n",
    "\n",
    "\n",
    "\n",
    "X1=tf.keras.layers.Bidirectional(tf.keras.layers.LSTM(150,  return_sequences=False))(first_channel)\n",
    "X2=Dropout(0.4)(X1)\n",
    "\n",
    "\n",
    "\n",
    "\n",
    "\n",
    "X11=Dense(1)(X2)"
   ]
  },
  {
   "cell_type": "code",
   "execution_count": 28,
   "id": "07364239",
   "metadata": {},
   "outputs": [
    {
     "name": "stdout",
     "output_type": "stream",
     "text": [
      "Model: \"model\"\n",
      "_________________________________________________________________\n",
      " Layer (type)                Output Shape              Param #   \n",
      "=================================================================\n",
      " input_1 (InputLayer)        [(None, 12, 3)]           0         \n",
      "                                                                 \n",
      " bidirectional (Bidirectiona  (None, 300)              184800    \n",
      " l)                                                              \n",
      "                                                                 \n",
      " dropout (Dropout)           (None, 300)               0         \n",
      "                                                                 \n",
      " dense (Dense)               (None, 1)                 301       \n",
      "                                                                 \n",
      "=================================================================\n",
      "Total params: 185,101\n",
      "Trainable params: 185,101\n",
      "Non-trainable params: 0\n",
      "_________________________________________________________________\n"
     ]
    }
   ],
   "source": [
    "model=tf.keras.Model(first_channel,X11)\n",
    "\n",
    "model.compile(optimizer='adam',loss='mse')\n",
    "model.summary()"
   ]
  },
  {
   "cell_type": "code",
   "execution_count": 29,
   "id": "a78bcf20",
   "metadata": {},
   "outputs": [
    {
     "name": "stdout",
     "output_type": "stream",
     "text": [
      "Epoch 1/2000\n",
      "29/29 [==============================] - 12s 123ms/step - loss: 0.0182 - val_loss: 0.0247\n",
      "Epoch 2/2000\n",
      "29/29 [==============================] - 1s 42ms/step - loss: 0.0142 - val_loss: 0.0228\n",
      "Epoch 3/2000\n",
      "29/29 [==============================] - 1s 43ms/step - loss: 0.0133 - val_loss: 0.0219\n",
      "Epoch 4/2000\n",
      "29/29 [==============================] - 1s 33ms/step - loss: 0.0126 - val_loss: 0.0213\n",
      "Epoch 5/2000\n",
      "29/29 [==============================] - 1s 33ms/step - loss: 0.0126 - val_loss: 0.0210\n",
      "Epoch 6/2000\n",
      "29/29 [==============================] - 1s 32ms/step - loss: 0.0122 - val_loss: 0.0207\n",
      "Epoch 7/2000\n",
      "29/29 [==============================] - 1s 31ms/step - loss: 0.0118 - val_loss: 0.0206\n",
      "Epoch 8/2000\n",
      "29/29 [==============================] - 1s 33ms/step - loss: 0.0118 - val_loss: 0.0208\n",
      "Epoch 9/2000\n",
      "29/29 [==============================] - 1s 32ms/step - loss: 0.0116 - val_loss: 0.0208\n",
      "Epoch 10/2000\n",
      "29/29 [==============================] - 1s 34ms/step - loss: 0.0119 - val_loss: 0.0208\n",
      "Epoch 11/2000\n",
      "29/29 [==============================] - 1s 48ms/step - loss: 0.0118 - val_loss: 0.0208\n",
      "Epoch 12/2000\n",
      "29/29 [==============================] - 1s 48ms/step - loss: 0.0113 - val_loss: 0.0209\n",
      "Epoch 13/2000\n",
      "29/29 [==============================] - 1s 38ms/step - loss: 0.0120 - val_loss: 0.0209\n",
      "Epoch 14/2000\n",
      "29/29 [==============================] - 1s 34ms/step - loss: 0.0115 - val_loss: 0.0205\n",
      "Epoch 15/2000\n",
      "29/29 [==============================] - 1s 34ms/step - loss: 0.0115 - val_loss: 0.0205\n",
      "Epoch 16/2000\n",
      "29/29 [==============================] - 1s 36ms/step - loss: 0.0113 - val_loss: 0.0206\n",
      "Epoch 17/2000\n",
      "29/29 [==============================] - 1s 40ms/step - loss: 0.0116 - val_loss: 0.0208\n",
      "Epoch 18/2000\n",
      "29/29 [==============================] - 1s 33ms/step - loss: 0.0114 - val_loss: 0.0205\n",
      "Epoch 19/2000\n",
      "29/29 [==============================] - 1s 34ms/step - loss: 0.0112 - val_loss: 0.0205\n",
      "Epoch 20/2000\n",
      "29/29 [==============================] - 1s 39ms/step - loss: 0.0113 - val_loss: 0.0205\n",
      "Epoch 21/2000\n",
      "29/29 [==============================] - 1s 31ms/step - loss: 0.0113 - val_loss: 0.0207\n",
      "Epoch 22/2000\n",
      "29/29 [==============================] - 1s 29ms/step - loss: 0.0117 - val_loss: 0.0205\n",
      "Epoch 23/2000\n",
      "29/29 [==============================] - 1s 31ms/step - loss: 0.0114 - val_loss: 0.0206\n",
      "Epoch 24/2000\n",
      "29/29 [==============================] - 1s 35ms/step - loss: 0.0112 - val_loss: 0.0207\n",
      "Epoch 25/2000\n",
      "29/29 [==============================] - 1s 39ms/step - loss: 0.0114 - val_loss: 0.0209\n",
      "Epoch 26/2000\n",
      "29/29 [==============================] - 1s 40ms/step - loss: 0.0111 - val_loss: 0.0205\n",
      "Epoch 27/2000\n",
      "29/29 [==============================] - 1s 44ms/step - loss: 0.0113 - val_loss: 0.0207\n",
      "Epoch 28/2000\n",
      "29/29 [==============================] - 1s 40ms/step - loss: 0.0112 - val_loss: 0.0208\n",
      "Epoch 29/2000\n",
      "29/29 [==============================] - 1s 46ms/step - loss: 0.0114 - val_loss: 0.0205\n",
      "Epoch 30/2000\n",
      "29/29 [==============================] - 1s 45ms/step - loss: 0.0111 - val_loss: 0.0208\n",
      "Epoch 31/2000\n",
      "29/29 [==============================] - 1s 42ms/step - loss: 0.0109 - val_loss: 0.0207\n",
      "Epoch 32/2000\n",
      "29/29 [==============================] - 1s 39ms/step - loss: 0.0110 - val_loss: 0.0208\n",
      "Epoch 33/2000\n",
      "29/29 [==============================] - 1s 37ms/step - loss: 0.0108 - val_loss: 0.0210\n",
      "Epoch 34/2000\n",
      "29/29 [==============================] - 1s 47ms/step - loss: 0.0110 - val_loss: 0.0209\n",
      "Epoch 35/2000\n",
      "29/29 [==============================] - 1s 42ms/step - loss: 0.0108 - val_loss: 0.0212\n",
      "Epoch 36/2000\n",
      "29/29 [==============================] - 1s 43ms/step - loss: 0.0110 - val_loss: 0.0210\n",
      "Epoch 37/2000\n",
      "29/29 [==============================] - 1s 30ms/step - loss: 0.0109 - val_loss: 0.0214\n",
      "Epoch 38/2000\n",
      "29/29 [==============================] - 1s 30ms/step - loss: 0.0112 - val_loss: 0.0209\n",
      "Epoch 39/2000\n",
      "29/29 [==============================] - 1s 44ms/step - loss: 0.0111 - val_loss: 0.0210\n",
      "Epoch 40/2000\n",
      "29/29 [==============================] - 1s 46ms/step - loss: 0.0108 - val_loss: 0.0211\n",
      "Epoch 41/2000\n",
      "29/29 [==============================] - 1s 41ms/step - loss: 0.0109 - val_loss: 0.0212\n",
      "Epoch 42/2000\n",
      "29/29 [==============================] - 1s 36ms/step - loss: 0.0107 - val_loss: 0.0212\n",
      "Epoch 43/2000\n",
      "29/29 [==============================] - 1s 32ms/step - loss: 0.0108 - val_loss: 0.0217\n",
      "Epoch 44/2000\n",
      "29/29 [==============================] - 1s 28ms/step - loss: 0.0109 - val_loss: 0.0215\n",
      "Epoch 45/2000\n",
      "29/29 [==============================] - 1s 28ms/step - loss: 0.0109 - val_loss: 0.0212\n",
      "Epoch 46/2000\n",
      "29/29 [==============================] - 1s 29ms/step - loss: 0.0109 - val_loss: 0.0213\n",
      "Epoch 47/2000\n",
      "29/29 [==============================] - 1s 27ms/step - loss: 0.0109 - val_loss: 0.0216\n",
      "Epoch 48/2000\n",
      "29/29 [==============================] - 1s 27ms/step - loss: 0.0108 - val_loss: 0.0220\n",
      "Epoch 49/2000\n",
      "29/29 [==============================] - 1s 27ms/step - loss: 0.0107 - val_loss: 0.0216\n",
      "Epoch 50/2000\n",
      "29/29 [==============================] - 1s 28ms/step - loss: 0.0104 - val_loss: 0.0220\n",
      "Epoch 51/2000\n",
      "29/29 [==============================] - 1s 34ms/step - loss: 0.0108 - val_loss: 0.0214\n",
      "Epoch 52/2000\n",
      "29/29 [==============================] - 1s 32ms/step - loss: 0.0110 - val_loss: 0.0208\n",
      "Epoch 53/2000\n",
      "29/29 [==============================] - 1s 37ms/step - loss: 0.0106 - val_loss: 0.0217\n",
      "Epoch 54/2000\n",
      "29/29 [==============================] - 1s 33ms/step - loss: 0.0105 - val_loss: 0.0216\n",
      "Epoch 55/2000\n",
      "29/29 [==============================] - 1s 31ms/step - loss: 0.0106 - val_loss: 0.0217\n",
      "Epoch 56/2000\n",
      "29/29 [==============================] - 1s 40ms/step - loss: 0.0110 - val_loss: 0.0214\n",
      "Epoch 57/2000\n",
      "29/29 [==============================] - 1s 37ms/step - loss: 0.0106 - val_loss: 0.0215\n",
      "Epoch 58/2000\n",
      "29/29 [==============================] - 1s 37ms/step - loss: 0.0105 - val_loss: 0.0218\n",
      "Epoch 59/2000\n",
      "29/29 [==============================] - 1s 37ms/step - loss: 0.0105 - val_loss: 0.0219\n",
      "Epoch 60/2000\n",
      "29/29 [==============================] - 1s 37ms/step - loss: 0.0105 - val_loss: 0.0220\n",
      "Epoch 61/2000\n",
      "29/29 [==============================] - 1s 42ms/step - loss: 0.0105 - val_loss: 0.0218\n",
      "Epoch 62/2000\n",
      "29/29 [==============================] - 1s 38ms/step - loss: 0.0105 - val_loss: 0.0221\n",
      "Epoch 63/2000\n",
      "29/29 [==============================] - 1s 41ms/step - loss: 0.0104 - val_loss: 0.0227\n",
      "Epoch 64/2000\n",
      "29/29 [==============================] - 1s 41ms/step - loss: 0.0106 - val_loss: 0.0215\n",
      "Epoch 65/2000\n",
      "29/29 [==============================] - 1s 35ms/step - loss: 0.0106 - val_loss: 0.0217\n",
      "Epoch 66/2000\n",
      "29/29 [==============================] - 1s 41ms/step - loss: 0.0103 - val_loss: 0.0226\n",
      "Epoch 67/2000\n",
      "29/29 [==============================] - 1s 46ms/step - loss: 0.0104 - val_loss: 0.0237\n",
      "Epoch 68/2000\n",
      "29/29 [==============================] - 1s 46ms/step - loss: 0.0102 - val_loss: 0.0222\n",
      "Epoch 69/2000\n",
      "29/29 [==============================] - 1s 45ms/step - loss: 0.0101 - val_loss: 0.0246\n"
     ]
    }
   ],
   "source": [
    "early_stopping = tf.keras.callbacks.EarlyStopping(monitor=\"val_loss\", patience=40, restore_best_weights=True)\n",
    "\n",
    "with tf.device('/GPU:0'):\n",
    "    history = model.fit(train_data,y_train, validation_data=(test_data,y_test),epochs=2000, shuffle=False,callbacks=[ early_stopping])"
   ]
  },
  {
   "cell_type": "code",
   "execution_count": 30,
   "id": "5f4c4fab",
   "metadata": {},
   "outputs": [
    {
     "name": "stdout",
     "output_type": "stream",
     "text": [
      "6/6 [==============================] - 0s 12ms/step - loss: 0.0205\n"
     ]
    },
    {
     "data": {
      "text/plain": [
       "0.020459813997149467"
      ]
     },
     "execution_count": 30,
     "metadata": {},
     "output_type": "execute_result"
    }
   ],
   "source": [
    "model.evaluate(test_data,y_test)"
   ]
  },
  {
   "cell_type": "code",
   "execution_count": 33,
   "id": "c9ee95ba",
   "metadata": {},
   "outputs": [
    {
     "name": "stdout",
     "output_type": "stream",
     "text": [
      "6/6 [==============================] - 2s 11ms/step\n"
     ]
    }
   ],
   "source": [
    "prediction=model.predict(test_data)"
   ]
  },
  {
   "cell_type": "code",
   "execution_count": 36,
   "id": "489c61e7",
   "metadata": {},
   "outputs": [],
   "source": [
    "X=X1['PM2.5']\n"
   ]
  },
  {
   "cell_type": "code",
   "execution_count": 37,
   "id": "e73c50a4",
   "metadata": {},
   "outputs": [],
   "source": [
    "X=np.asarray(X).reshape((X.shape[0],1))"
   ]
  },
  {
   "cell_type": "code",
   "execution_count": 38,
   "id": "63ae25a7",
   "metadata": {},
   "outputs": [
    {
     "data": {
      "text/html": [
       "<style>#sk-container-id-1 {color: black;background-color: white;}#sk-container-id-1 pre{padding: 0;}#sk-container-id-1 div.sk-toggleable {background-color: white;}#sk-container-id-1 label.sk-toggleable__label {cursor: pointer;display: block;width: 100%;margin-bottom: 0;padding: 0.3em;box-sizing: border-box;text-align: center;}#sk-container-id-1 label.sk-toggleable__label-arrow:before {content: \"▸\";float: left;margin-right: 0.25em;color: #696969;}#sk-container-id-1 label.sk-toggleable__label-arrow:hover:before {color: black;}#sk-container-id-1 div.sk-estimator:hover label.sk-toggleable__label-arrow:before {color: black;}#sk-container-id-1 div.sk-toggleable__content {max-height: 0;max-width: 0;overflow: hidden;text-align: left;background-color: #f0f8ff;}#sk-container-id-1 div.sk-toggleable__content pre {margin: 0.2em;color: black;border-radius: 0.25em;background-color: #f0f8ff;}#sk-container-id-1 input.sk-toggleable__control:checked~div.sk-toggleable__content {max-height: 200px;max-width: 100%;overflow: auto;}#sk-container-id-1 input.sk-toggleable__control:checked~label.sk-toggleable__label-arrow:before {content: \"▾\";}#sk-container-id-1 div.sk-estimator input.sk-toggleable__control:checked~label.sk-toggleable__label {background-color: #d4ebff;}#sk-container-id-1 div.sk-label input.sk-toggleable__control:checked~label.sk-toggleable__label {background-color: #d4ebff;}#sk-container-id-1 input.sk-hidden--visually {border: 0;clip: rect(1px 1px 1px 1px);clip: rect(1px, 1px, 1px, 1px);height: 1px;margin: -1px;overflow: hidden;padding: 0;position: absolute;width: 1px;}#sk-container-id-1 div.sk-estimator {font-family: monospace;background-color: #f0f8ff;border: 1px dotted black;border-radius: 0.25em;box-sizing: border-box;margin-bottom: 0.5em;}#sk-container-id-1 div.sk-estimator:hover {background-color: #d4ebff;}#sk-container-id-1 div.sk-parallel-item::after {content: \"\";width: 100%;border-bottom: 1px solid gray;flex-grow: 1;}#sk-container-id-1 div.sk-label:hover label.sk-toggleable__label {background-color: #d4ebff;}#sk-container-id-1 div.sk-serial::before {content: \"\";position: absolute;border-left: 1px solid gray;box-sizing: border-box;top: 0;bottom: 0;left: 50%;z-index: 0;}#sk-container-id-1 div.sk-serial {display: flex;flex-direction: column;align-items: center;background-color: white;padding-right: 0.2em;padding-left: 0.2em;position: relative;}#sk-container-id-1 div.sk-item {position: relative;z-index: 1;}#sk-container-id-1 div.sk-parallel {display: flex;align-items: stretch;justify-content: center;background-color: white;position: relative;}#sk-container-id-1 div.sk-item::before, #sk-container-id-1 div.sk-parallel-item::before {content: \"\";position: absolute;border-left: 1px solid gray;box-sizing: border-box;top: 0;bottom: 0;left: 50%;z-index: -1;}#sk-container-id-1 div.sk-parallel-item {display: flex;flex-direction: column;z-index: 1;position: relative;background-color: white;}#sk-container-id-1 div.sk-parallel-item:first-child::after {align-self: flex-end;width: 50%;}#sk-container-id-1 div.sk-parallel-item:last-child::after {align-self: flex-start;width: 50%;}#sk-container-id-1 div.sk-parallel-item:only-child::after {width: 0;}#sk-container-id-1 div.sk-dashed-wrapped {border: 1px dashed gray;margin: 0 0.4em 0.5em 0.4em;box-sizing: border-box;padding-bottom: 0.4em;background-color: white;}#sk-container-id-1 div.sk-label label {font-family: monospace;font-weight: bold;display: inline-block;line-height: 1.2em;}#sk-container-id-1 div.sk-label-container {text-align: center;}#sk-container-id-1 div.sk-container {/* jupyter's `normalize.less` sets `[hidden] { display: none; }` but bootstrap.min.css set `[hidden] { display: none !important; }` so we also need the `!important` here to be able to override the default hidden behavior on the sphinx rendered scikit-learn.org. See: https://github.com/scikit-learn/scikit-learn/issues/21755 */display: inline-block !important;position: relative;}#sk-container-id-1 div.sk-text-repr-fallback {display: none;}</style><div id=\"sk-container-id-1\" class=\"sk-top-container\"><div class=\"sk-text-repr-fallback\"><pre>MinMaxScaler()</pre><b>In a Jupyter environment, please rerun this cell to show the HTML representation or trust the notebook. <br />On GitHub, the HTML representation is unable to render, please try loading this page with nbviewer.org.</b></div><div class=\"sk-container\" hidden><div class=\"sk-item\"><div class=\"sk-estimator sk-toggleable\"><input class=\"sk-toggleable__control sk-hidden--visually\" id=\"sk-estimator-id-1\" type=\"checkbox\" checked><label for=\"sk-estimator-id-1\" class=\"sk-toggleable__label sk-toggleable__label-arrow\">MinMaxScaler</label><div class=\"sk-toggleable__content\"><pre>MinMaxScaler()</pre></div></div></div></div></div>"
      ],
      "text/plain": [
       "MinMaxScaler()"
      ]
     },
     "execution_count": 38,
     "metadata": {},
     "output_type": "execute_result"
    }
   ],
   "source": [
    "scaler2 = MinMaxScaler()\n",
    "scaler2.fit(X)\n",
    "\n"
   ]
  },
  {
   "cell_type": "code",
   "execution_count": 39,
   "id": "a6f50741",
   "metadata": {},
   "outputs": [],
   "source": [
    "df_predi=pd.DataFrame(y_test)\n",
    "\n",
    "rev_trans=scaler2.inverse_transform(df_predi)\n",
    "\n",
    "df_final=pd.DataFrame(rev_trans)"
   ]
  },
  {
   "cell_type": "code",
   "execution_count": 40,
   "id": "4de0996b",
   "metadata": {},
   "outputs": [],
   "source": [
    "\n",
    "rev_trans1=scaler2.inverse_transform(prediction)\n",
    "\n",
    "\n"
   ]
  },
  {
   "cell_type": "code",
   "execution_count": 41,
   "id": "0e6173ef",
   "metadata": {},
   "outputs": [],
   "source": [
    "df_final[[\"PM2.5_pred\"]]=rev_trans1"
   ]
  },
  {
   "cell_type": "code",
   "execution_count": 42,
   "id": "9b8fb74e",
   "metadata": {},
   "outputs": [
    {
     "data": {
      "text/html": [
       "<div>\n",
       "<style scoped>\n",
       "    .dataframe tbody tr th:only-of-type {\n",
       "        vertical-align: middle;\n",
       "    }\n",
       "\n",
       "    .dataframe tbody tr th {\n",
       "        vertical-align: top;\n",
       "    }\n",
       "\n",
       "    .dataframe thead th {\n",
       "        text-align: right;\n",
       "    }\n",
       "</style>\n",
       "<table border=\"1\" class=\"dataframe\">\n",
       "  <thead>\n",
       "    <tr style=\"text-align: right;\">\n",
       "      <th></th>\n",
       "      <th>0</th>\n",
       "      <th>PM2.5_pred</th>\n",
       "    </tr>\n",
       "  </thead>\n",
       "  <tbody>\n",
       "    <tr>\n",
       "      <th>0</th>\n",
       "      <td>17.625000</td>\n",
       "      <td>29.291950</td>\n",
       "    </tr>\n",
       "    <tr>\n",
       "      <th>1</th>\n",
       "      <td>31.166667</td>\n",
       "      <td>33.429329</td>\n",
       "    </tr>\n",
       "    <tr>\n",
       "      <th>2</th>\n",
       "      <td>17.437500</td>\n",
       "      <td>41.328266</td>\n",
       "    </tr>\n",
       "    <tr>\n",
       "      <th>3</th>\n",
       "      <td>6.166667</td>\n",
       "      <td>28.491341</td>\n",
       "    </tr>\n",
       "    <tr>\n",
       "      <th>4</th>\n",
       "      <td>11.833333</td>\n",
       "      <td>24.327038</td>\n",
       "    </tr>\n",
       "    <tr>\n",
       "      <th>...</th>\n",
       "      <td>...</td>\n",
       "      <td>...</td>\n",
       "    </tr>\n",
       "    <tr>\n",
       "      <th>167</th>\n",
       "      <td>104.458333</td>\n",
       "      <td>49.714046</td>\n",
       "    </tr>\n",
       "    <tr>\n",
       "      <th>168</th>\n",
       "      <td>92.916667</td>\n",
       "      <td>97.835922</td>\n",
       "    </tr>\n",
       "    <tr>\n",
       "      <th>169</th>\n",
       "      <td>182.833333</td>\n",
       "      <td>78.276566</td>\n",
       "    </tr>\n",
       "    <tr>\n",
       "      <th>170</th>\n",
       "      <td>227.625000</td>\n",
       "      <td>143.166275</td>\n",
       "    </tr>\n",
       "    <tr>\n",
       "      <th>171</th>\n",
       "      <td>121.541667</td>\n",
       "      <td>153.893250</td>\n",
       "    </tr>\n",
       "  </tbody>\n",
       "</table>\n",
       "<p>172 rows × 2 columns</p>\n",
       "</div>"
      ],
      "text/plain": [
       "              0  PM2.5_pred\n",
       "0     17.625000   29.291950\n",
       "1     31.166667   33.429329\n",
       "2     17.437500   41.328266\n",
       "3      6.166667   28.491341\n",
       "4     11.833333   24.327038\n",
       "..          ...         ...\n",
       "167  104.458333   49.714046\n",
       "168   92.916667   97.835922\n",
       "169  182.833333   78.276566\n",
       "170  227.625000  143.166275\n",
       "171  121.541667  153.893250\n",
       "\n",
       "[172 rows x 2 columns]"
      ]
     },
     "execution_count": 42,
     "metadata": {},
     "output_type": "execute_result"
    }
   ],
   "source": [
    "df_final"
   ]
  },
  {
   "cell_type": "code",
   "execution_count": 43,
   "id": "65bd40ef",
   "metadata": {},
   "outputs": [
    {
     "data": {
      "text/html": [
       "<div>\n",
       "<style scoped>\n",
       "    .dataframe tbody tr th:only-of-type {\n",
       "        vertical-align: middle;\n",
       "    }\n",
       "\n",
       "    .dataframe tbody tr th {\n",
       "        vertical-align: top;\n",
       "    }\n",
       "\n",
       "    .dataframe thead th {\n",
       "        text-align: right;\n",
       "    }\n",
       "</style>\n",
       "<table border=\"1\" class=\"dataframe\">\n",
       "  <thead>\n",
       "    <tr style=\"text-align: right;\">\n",
       "      <th></th>\n",
       "      <th>0</th>\n",
       "      <th>PM2.5_pred</th>\n",
       "    </tr>\n",
       "  </thead>\n",
       "  <tbody>\n",
       "    <tr>\n",
       "      <th>0</th>\n",
       "      <td>17.625000</td>\n",
       "      <td>29.291950</td>\n",
       "    </tr>\n",
       "    <tr>\n",
       "      <th>1</th>\n",
       "      <td>31.166667</td>\n",
       "      <td>33.429329</td>\n",
       "    </tr>\n",
       "    <tr>\n",
       "      <th>2</th>\n",
       "      <td>17.437500</td>\n",
       "      <td>41.328266</td>\n",
       "    </tr>\n",
       "    <tr>\n",
       "      <th>3</th>\n",
       "      <td>6.166667</td>\n",
       "      <td>28.491341</td>\n",
       "    </tr>\n",
       "    <tr>\n",
       "      <th>4</th>\n",
       "      <td>11.833333</td>\n",
       "      <td>24.327038</td>\n",
       "    </tr>\n",
       "    <tr>\n",
       "      <th>5</th>\n",
       "      <td>18.458333</td>\n",
       "      <td>30.085270</td>\n",
       "    </tr>\n",
       "    <tr>\n",
       "      <th>6</th>\n",
       "      <td>79.833333</td>\n",
       "      <td>32.132858</td>\n",
       "    </tr>\n",
       "    <tr>\n",
       "      <th>7</th>\n",
       "      <td>27.000000</td>\n",
       "      <td>74.771927</td>\n",
       "    </tr>\n",
       "    <tr>\n",
       "      <th>8</th>\n",
       "      <td>21.742188</td>\n",
       "      <td>28.545895</td>\n",
       "    </tr>\n",
       "    <tr>\n",
       "      <th>9</th>\n",
       "      <td>42.820312</td>\n",
       "      <td>30.429638</td>\n",
       "    </tr>\n",
       "    <tr>\n",
       "      <th>10</th>\n",
       "      <td>20.666667</td>\n",
       "      <td>45.742378</td>\n",
       "    </tr>\n",
       "    <tr>\n",
       "      <th>11</th>\n",
       "      <td>19.916667</td>\n",
       "      <td>28.258883</td>\n",
       "    </tr>\n",
       "    <tr>\n",
       "      <th>12</th>\n",
       "      <td>14.791667</td>\n",
       "      <td>31.443037</td>\n",
       "    </tr>\n",
       "    <tr>\n",
       "      <th>13</th>\n",
       "      <td>36.583333</td>\n",
       "      <td>28.195047</td>\n",
       "    </tr>\n",
       "    <tr>\n",
       "      <th>14</th>\n",
       "      <td>29.541667</td>\n",
       "      <td>44.091171</td>\n",
       "    </tr>\n",
       "    <tr>\n",
       "      <th>15</th>\n",
       "      <td>90.833333</td>\n",
       "      <td>35.306118</td>\n",
       "    </tr>\n",
       "    <tr>\n",
       "      <th>16</th>\n",
       "      <td>101.750000</td>\n",
       "      <td>77.035210</td>\n",
       "    </tr>\n",
       "    <tr>\n",
       "      <th>17</th>\n",
       "      <td>73.416667</td>\n",
       "      <td>73.342751</td>\n",
       "    </tr>\n",
       "    <tr>\n",
       "      <th>18</th>\n",
       "      <td>136.916667</td>\n",
       "      <td>52.118107</td>\n",
       "    </tr>\n",
       "    <tr>\n",
       "      <th>19</th>\n",
       "      <td>43.583333</td>\n",
       "      <td>102.460014</td>\n",
       "    </tr>\n",
       "    <tr>\n",
       "      <th>20</th>\n",
       "      <td>20.916667</td>\n",
       "      <td>30.540121</td>\n",
       "    </tr>\n",
       "    <tr>\n",
       "      <th>21</th>\n",
       "      <td>10.708333</td>\n",
       "      <td>31.200590</td>\n",
       "    </tr>\n",
       "    <tr>\n",
       "      <th>22</th>\n",
       "      <td>18.250000</td>\n",
       "      <td>27.619873</td>\n",
       "    </tr>\n",
       "    <tr>\n",
       "      <th>23</th>\n",
       "      <td>67.333333</td>\n",
       "      <td>33.435349</td>\n",
       "    </tr>\n",
       "    <tr>\n",
       "      <th>24</th>\n",
       "      <td>106.708333</td>\n",
       "      <td>66.717468</td>\n",
       "    </tr>\n",
       "    <tr>\n",
       "      <th>25</th>\n",
       "      <td>134.500000</td>\n",
       "      <td>92.765518</td>\n",
       "    </tr>\n",
       "    <tr>\n",
       "      <th>26</th>\n",
       "      <td>121.583333</td>\n",
       "      <td>104.293854</td>\n",
       "    </tr>\n",
       "    <tr>\n",
       "      <th>27</th>\n",
       "      <td>166.041667</td>\n",
       "      <td>94.598534</td>\n",
       "    </tr>\n",
       "    <tr>\n",
       "      <th>28</th>\n",
       "      <td>57.000000</td>\n",
       "      <td>128.025711</td>\n",
       "    </tr>\n",
       "    <tr>\n",
       "      <th>29</th>\n",
       "      <td>25.312500</td>\n",
       "      <td>48.867992</td>\n",
       "    </tr>\n",
       "  </tbody>\n",
       "</table>\n",
       "</div>"
      ],
      "text/plain": [
       "             0  PM2.5_pred\n",
       "0    17.625000   29.291950\n",
       "1    31.166667   33.429329\n",
       "2    17.437500   41.328266\n",
       "3     6.166667   28.491341\n",
       "4    11.833333   24.327038\n",
       "5    18.458333   30.085270\n",
       "6    79.833333   32.132858\n",
       "7    27.000000   74.771927\n",
       "8    21.742188   28.545895\n",
       "9    42.820312   30.429638\n",
       "10   20.666667   45.742378\n",
       "11   19.916667   28.258883\n",
       "12   14.791667   31.443037\n",
       "13   36.583333   28.195047\n",
       "14   29.541667   44.091171\n",
       "15   90.833333   35.306118\n",
       "16  101.750000   77.035210\n",
       "17   73.416667   73.342751\n",
       "18  136.916667   52.118107\n",
       "19   43.583333  102.460014\n",
       "20   20.916667   30.540121\n",
       "21   10.708333   31.200590\n",
       "22   18.250000   27.619873\n",
       "23   67.333333   33.435349\n",
       "24  106.708333   66.717468\n",
       "25  134.500000   92.765518\n",
       "26  121.583333  104.293854\n",
       "27  166.041667   94.598534\n",
       "28   57.000000  128.025711\n",
       "29   25.312500   48.867992"
      ]
     },
     "execution_count": 43,
     "metadata": {},
     "output_type": "execute_result"
    }
   ],
   "source": [
    "df_final.head(30)"
   ]
  },
  {
   "cell_type": "code",
   "execution_count": 44,
   "id": "ee22cfa5",
   "metadata": {},
   "outputs": [
    {
     "data": {
      "text/plain": [
       "<AxesSubplot:>"
      ]
     },
     "execution_count": 44,
     "metadata": {},
     "output_type": "execute_result"
    },
    {
     "data": {
      "image/png": "[encoded data removed]",
      "text/plain": [
       "<Figure size 1440x720 with 1 Axes>"
      ]
     },
     "metadata": {
      "needs_background": "light"
     },
     "output_type": "display_data"
    }
   ],
   "source": [
    "df_final[[0,\"PM2.5_pred\"]].plot(figsize=(20,10))"
   ]
  },
  {
   "cell_type": "code",
   "execution_count": 45,
   "id": "635a792a",
   "metadata": {},
   "outputs": [
    {
     "name": "stdout",
     "output_type": "stream",
     "text": [
      "Test Score: 72.99 RMSE\n",
      "\n",
      "Mae Score: 51.67 \n"
     ]
    }
   ],
   "source": [
    "import math\n",
    "from sklearn.metrics import mean_squared_error\n",
    "from sklearn.metrics import mean_absolute_error\n",
    "from sklearn.metrics import mean_absolute_percentage_error\n",
    "# calculate root mean squared error\n",
    "testScore = math.sqrt(mean_squared_error(df_final[0], df_final[\"PM2.5_pred\"]))\n",
    "print('Test Score: %.2f RMSE' % (testScore))\n",
    "#calculate mean aboslute error\n",
    "mae=mean_absolute_error(df_final[0],df_final[\"PM2.5_pred\"])\n",
    "print('\\nMae Score: %.2f ' % (mae))\n"
   ]
  },
  {
   "cell_type": "code",
   "execution_count": 46,
   "id": "7d24c199",
   "metadata": {},
   "outputs": [
    {
     "name": "stdout",
     "output_type": "stream",
     "text": [
      "\n",
      "[ Model performance is GOOD enough ]\n",
      "\n",
      "RMSE of test prediction < Standard deviation of test dataset\n",
      "72.99 < 87.31\n"
     ]
    }
   ],
   "source": [
    "test_series = df_final[0]\n",
    "# state of model performance\n",
    "if testScore < test_series.std():\n",
    "    print('\\n[ Model performance is GOOD enough ]')\n",
    "    print('\\nRMSE of test prediction < Standard deviation of test dataset')\n",
    "    print('%.2f' % (testScore), '<', '%.2f' % (test_series.std()))\n",
    "else:\n",
    "    print('\\n[ Model performance is NOT GOOD enough ]')\n",
    "    print('\\nRMSE of test prediction > Standard deviation of test dataset')\n",
    "    print('%.2f' % (testScore), '>', '%.2f' % (test_series.std()))"
   ]
  },
  {
   "cell_type": "code",
   "execution_count": 47,
   "id": "3271c6d5",
   "metadata": {},
   "outputs": [
    {
     "data": {
      "text/plain": [
       "Text(0, 0.5, 'mse score')"
      ]
     },
     "execution_count": 47,
     "metadata": {},
     "output_type": "execute_result"
    },
    {
     "data": {
      "image/png": "[encoded data removed]",
      "text/plain": [
       "<Figure size 432x288 with 1 Axes>"
      ]
     },
     "metadata": {
      "needs_background": "light"
     },
     "output_type": "display_data"
    }
   ],
   "source": [
    "plt.plot(history.history[\"loss\"],label=\"loss\")\n",
    "plt.plot(history.history[\"val_loss\"],label=\"val_loss\")\n",
    "plt.legend(loc=\"best\")\n",
    "plt.xlabel(\"No. Of Epochs\")\n",
    "plt.ylabel(\"mse score\")"
   ]
  },
  {
   "cell_type": "code",
   "execution_count": 48,
   "id": "b597816f",
   "metadata": {},
   "outputs": [
    {
     "name": "stderr",
     "output_type": "stream",
     "text": [
      "WARNING:absl:Found untraced functions such as lstm_cell_1_layer_call_fn, lstm_cell_1_layer_call_and_return_conditional_losses, lstm_cell_2_layer_call_fn, lstm_cell_2_layer_call_and_return_conditional_losses while saving (showing 4 of 4). These functions will not be directly callable after loading.\n"
     ]
    },
    {
     "name": "stdout",
     "output_type": "stream",
     "text": [
      "INFO:tensorflow:Assets written to: ./modelbilstuni-Uni\\assets\n"
     ]
    },
    {
     "name": "stderr",
     "output_type": "stream",
     "text": [
      "INFO:tensorflow:Assets written to: ./modelbilstuni-Uni\\assets\n"
     ]
    }
   ],
   "source": [
    "model.save('./modelbilstuni-Uni')"
   ]
  },
  {
   "cell_type": "code",
   "execution_count": null,
   "id": "f52b6254",
   "metadata": {},
   "outputs": [],
   "source": []
  }
 ],
 "metadata": {
  "kernelspec": {
   "display_name": "Python 3",
   "language": "python",
   "name": "python3"
  },
  "language_info": {
   "codemirror_mode": {
    "name": "ipython",
    "version": 3
   },
   "file_extension": ".py",
   "mimetype": "text/x-python",
   "name": "python",
   "nbconvert_exporter": "python",
   "pygments_lexer": "ipython3",
   "version": "3.8.8"
  }
 },
 "nbformat": 4,
 "nbformat_minor": 5
}
